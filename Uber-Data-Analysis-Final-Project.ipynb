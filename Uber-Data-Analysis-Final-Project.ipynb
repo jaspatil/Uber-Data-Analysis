{
 "cells": [
  {
   "cell_type": "markdown",
   "id": "69c9af49",
   "metadata": {},
   "source": [
    "## ANALYSIS OF UBER PICKUPS IN NEW YORK CITY"
   ]
  },
  {
   "cell_type": "markdown",
   "id": "45035f3a",
   "metadata": {},
   "source": [
    "I have taken a dataset which has over 4.5 million Uber Pickups from April to September of year 2014.\n",
    "\n",
    "Link to the data set is - https://www.kaggle.com/datasets/fivethirtyeight/uber-pickups-in-new-york-city\n",
    "\n",
    "License is : CC0 Public Domain\n",
    "\n",
    "Public Domain Licence is a document intended to allow you to freely share, modify, and use this work for any purpose and without any restrictions. This licence is intended for use on databases or their contents (“data”), either together or individually.\n",
    "\n",
    "Data Type: Raw\n",
    "\n",
    "Data Size:\n",
    "uber-raw-data-apr14.csv - 24.9 MB\n",
    "uber-raw-data-may14.csv - 28.7 MB\n",
    "uber-raw-data-jun14.csv - 29.2 MB\n",
    "uber-raw-data-jul14.csv - 35.1 MB\n",
    "uber-raw-data-aug14.csv - 36.5 MB\n",
    "uber-raw-data-sep14.csv - 45.3 MB"
   ]
  },
  {
   "cell_type": "code",
   "execution_count": 1,
   "id": "1ebc9012",
   "metadata": {},
   "outputs": [],
   "source": [
    "import pandas as pd\n",
    "import calendar\n",
    "import matplotlib.pyplot as plt\n",
    "from matplotlib.font_manager import FontProperties"
   ]
  },
  {
   "cell_type": "code",
   "execution_count": 2,
   "id": "2d86be88",
   "metadata": {},
   "outputs": [],
   "source": [
    "ds1=pd.read_csv(\"C:/Users/jaspa/Downloads/uber-raw-data-apr14.csv\")\n",
    "ds2=pd.read_csv(\"C:/Users/jaspa/Downloads/uber-raw-data-may14.csv\")\n",
    "ds3=pd.read_csv(\"C:/Users/jaspa/Downloads/uber-raw-data-jun14.csv\")\n",
    "ds4=pd.read_csv(\"C:/Users/jaspa/Downloads/uber-raw-data-jul14.csv\")\n",
    "ds5=pd.read_csv(\"C:/Users/jaspa/Downloads/uber-raw-data-aug14.csv\")\n",
    "ds6=pd.read_csv(\"C:/Users/jaspa/Downloads/uber-raw-data-sep14.csv\")"
   ]
  },
  {
   "cell_type": "code",
   "execution_count": 3,
   "id": "46b98912",
   "metadata": {},
   "outputs": [],
   "source": [
    "#Aggretation of 6upper files in 1 using concat function \n",
    "agg_ds=pd.concat([ds1,ds2,ds3,ds4,ds5,ds6])"
   ]
  },
  {
   "cell_type": "code",
   "execution_count": 4,
   "id": "6d6ca3f7",
   "metadata": {},
   "outputs": [
    {
     "data": {
      "text/html": [
       "<div>\n",
       "<style scoped>\n",
       "    .dataframe tbody tr th:only-of-type {\n",
       "        vertical-align: middle;\n",
       "    }\n",
       "\n",
       "    .dataframe tbody tr th {\n",
       "        vertical-align: top;\n",
       "    }\n",
       "\n",
       "    .dataframe thead th {\n",
       "        text-align: right;\n",
       "    }\n",
       "</style>\n",
       "<table border=\"1\" class=\"dataframe\">\n",
       "  <thead>\n",
       "    <tr style=\"text-align: right;\">\n",
       "      <th></th>\n",
       "      <th>Date/Time</th>\n",
       "      <th>Lat</th>\n",
       "      <th>Lon</th>\n",
       "      <th>Base</th>\n",
       "    </tr>\n",
       "  </thead>\n",
       "  <tbody>\n",
       "    <tr>\n",
       "      <th>0</th>\n",
       "      <td>4/1/2014 0:11:00</td>\n",
       "      <td>40.7690</td>\n",
       "      <td>-73.9549</td>\n",
       "      <td>B02512</td>\n",
       "    </tr>\n",
       "    <tr>\n",
       "      <th>1</th>\n",
       "      <td>4/1/2014 0:17:00</td>\n",
       "      <td>40.7267</td>\n",
       "      <td>-74.0345</td>\n",
       "      <td>B02512</td>\n",
       "    </tr>\n",
       "    <tr>\n",
       "      <th>2</th>\n",
       "      <td>4/1/2014 0:21:00</td>\n",
       "      <td>40.7316</td>\n",
       "      <td>-73.9873</td>\n",
       "      <td>B02512</td>\n",
       "    </tr>\n",
       "    <tr>\n",
       "      <th>3</th>\n",
       "      <td>4/1/2014 0:28:00</td>\n",
       "      <td>40.7588</td>\n",
       "      <td>-73.9776</td>\n",
       "      <td>B02512</td>\n",
       "    </tr>\n",
       "    <tr>\n",
       "      <th>4</th>\n",
       "      <td>4/1/2014 0:33:00</td>\n",
       "      <td>40.7594</td>\n",
       "      <td>-73.9722</td>\n",
       "      <td>B02512</td>\n",
       "    </tr>\n",
       "    <tr>\n",
       "      <th>...</th>\n",
       "      <td>...</td>\n",
       "      <td>...</td>\n",
       "      <td>...</td>\n",
       "      <td>...</td>\n",
       "    </tr>\n",
       "    <tr>\n",
       "      <th>1028131</th>\n",
       "      <td>9/30/2014 22:57:00</td>\n",
       "      <td>40.7668</td>\n",
       "      <td>-73.9845</td>\n",
       "      <td>B02764</td>\n",
       "    </tr>\n",
       "    <tr>\n",
       "      <th>1028132</th>\n",
       "      <td>9/30/2014 22:57:00</td>\n",
       "      <td>40.6911</td>\n",
       "      <td>-74.1773</td>\n",
       "      <td>B02764</td>\n",
       "    </tr>\n",
       "    <tr>\n",
       "      <th>1028133</th>\n",
       "      <td>9/30/2014 22:58:00</td>\n",
       "      <td>40.8519</td>\n",
       "      <td>-73.9319</td>\n",
       "      <td>B02764</td>\n",
       "    </tr>\n",
       "    <tr>\n",
       "      <th>1028134</th>\n",
       "      <td>9/30/2014 22:58:00</td>\n",
       "      <td>40.7081</td>\n",
       "      <td>-74.0066</td>\n",
       "      <td>B02764</td>\n",
       "    </tr>\n",
       "    <tr>\n",
       "      <th>1028135</th>\n",
       "      <td>9/30/2014 22:58:00</td>\n",
       "      <td>40.7140</td>\n",
       "      <td>-73.9496</td>\n",
       "      <td>B02764</td>\n",
       "    </tr>\n",
       "  </tbody>\n",
       "</table>\n",
       "<p>4534327 rows × 4 columns</p>\n",
       "</div>"
      ],
      "text/plain": [
       "                  Date/Time      Lat      Lon    Base\n",
       "0          4/1/2014 0:11:00  40.7690 -73.9549  B02512\n",
       "1          4/1/2014 0:17:00  40.7267 -74.0345  B02512\n",
       "2          4/1/2014 0:21:00  40.7316 -73.9873  B02512\n",
       "3          4/1/2014 0:28:00  40.7588 -73.9776  B02512\n",
       "4          4/1/2014 0:33:00  40.7594 -73.9722  B02512\n",
       "...                     ...      ...      ...     ...\n",
       "1028131  9/30/2014 22:57:00  40.7668 -73.9845  B02764\n",
       "1028132  9/30/2014 22:57:00  40.6911 -74.1773  B02764\n",
       "1028133  9/30/2014 22:58:00  40.8519 -73.9319  B02764\n",
       "1028134  9/30/2014 22:58:00  40.7081 -74.0066  B02764\n",
       "1028135  9/30/2014 22:58:00  40.7140 -73.9496  B02764\n",
       "\n",
       "[4534327 rows x 4 columns]"
      ]
     },
     "execution_count": 4,
     "metadata": {},
     "output_type": "execute_result"
    }
   ],
   "source": [
    "#Checking the Final DF\n",
    "agg_ds"
   ]
  },
  {
   "cell_type": "code",
   "execution_count": 5,
   "id": "e7920e3d",
   "metadata": {},
   "outputs": [
    {
     "data": {
      "text/html": [
       "<div>\n",
       "<style scoped>\n",
       "    .dataframe tbody tr th:only-of-type {\n",
       "        vertical-align: middle;\n",
       "    }\n",
       "\n",
       "    .dataframe tbody tr th {\n",
       "        vertical-align: top;\n",
       "    }\n",
       "\n",
       "    .dataframe thead th {\n",
       "        text-align: right;\n",
       "    }\n",
       "</style>\n",
       "<table border=\"1\" class=\"dataframe\">\n",
       "  <thead>\n",
       "    <tr style=\"text-align: right;\">\n",
       "      <th></th>\n",
       "      <th>Lat</th>\n",
       "      <th>Lon</th>\n",
       "    </tr>\n",
       "  </thead>\n",
       "  <tbody>\n",
       "    <tr>\n",
       "      <th>count</th>\n",
       "      <td>4.534327e+06</td>\n",
       "      <td>4.534327e+06</td>\n",
       "    </tr>\n",
       "    <tr>\n",
       "      <th>mean</th>\n",
       "      <td>4.073926e+01</td>\n",
       "      <td>-7.397302e+01</td>\n",
       "    </tr>\n",
       "    <tr>\n",
       "      <th>std</th>\n",
       "      <td>3.994991e-02</td>\n",
       "      <td>5.726670e-02</td>\n",
       "    </tr>\n",
       "    <tr>\n",
       "      <th>min</th>\n",
       "      <td>3.965690e+01</td>\n",
       "      <td>-7.492900e+01</td>\n",
       "    </tr>\n",
       "    <tr>\n",
       "      <th>25%</th>\n",
       "      <td>4.072110e+01</td>\n",
       "      <td>-7.399650e+01</td>\n",
       "    </tr>\n",
       "    <tr>\n",
       "      <th>50%</th>\n",
       "      <td>4.074220e+01</td>\n",
       "      <td>-7.398340e+01</td>\n",
       "    </tr>\n",
       "    <tr>\n",
       "      <th>75%</th>\n",
       "      <td>4.076100e+01</td>\n",
       "      <td>-7.396530e+01</td>\n",
       "    </tr>\n",
       "    <tr>\n",
       "      <th>max</th>\n",
       "      <td>4.211660e+01</td>\n",
       "      <td>-7.206660e+01</td>\n",
       "    </tr>\n",
       "  </tbody>\n",
       "</table>\n",
       "</div>"
      ],
      "text/plain": [
       "                Lat           Lon\n",
       "count  4.534327e+06  4.534327e+06\n",
       "mean   4.073926e+01 -7.397302e+01\n",
       "std    3.994991e-02  5.726670e-02\n",
       "min    3.965690e+01 -7.492900e+01\n",
       "25%    4.072110e+01 -7.399650e+01\n",
       "50%    4.074220e+01 -7.398340e+01\n",
       "75%    4.076100e+01 -7.396530e+01\n",
       "max    4.211660e+01 -7.206660e+01"
      ]
     },
     "execution_count": 5,
     "metadata": {},
     "output_type": "execute_result"
    }
   ],
   "source": [
    "#Summary of DATASET \n",
    "agg_ds.describe()"
   ]
  },
  {
   "cell_type": "code",
   "execution_count": 7,
   "id": "47a01c66",
   "metadata": {},
   "outputs": [],
   "source": [
    "agg_ds['Date/Time'] = pd.to_datetime(agg_ds['Date/Time'])"
   ]
  },
  {
   "cell_type": "code",
   "execution_count": 9,
   "id": "f141b5b4",
   "metadata": {},
   "outputs": [],
   "source": [
    "#Getting the Month from the final dataset\n",
    "\n",
    "agg_ds['Month'] = agg_ds['Date/Time'].dt.month"
   ]
  },
  {
   "cell_type": "code",
   "execution_count": 10,
   "id": "f747a0d5",
   "metadata": {},
   "outputs": [
    {
     "data": {
      "text/plain": [
       "0          4\n",
       "1          4\n",
       "2          4\n",
       "3          4\n",
       "4          4\n",
       "          ..\n",
       "1028131    9\n",
       "1028132    9\n",
       "1028133    9\n",
       "1028134    9\n",
       "1028135    9\n",
       "Name: Month, Length: 4534327, dtype: int64"
      ]
     },
     "execution_count": 10,
     "metadata": {},
     "output_type": "execute_result"
    }
   ],
   "source": [
    "agg_ds['Month']"
   ]
  },
  {
   "cell_type": "code",
   "execution_count": 11,
   "id": "252976ce",
   "metadata": {},
   "outputs": [],
   "source": [
    "#Sorting the final data based on the month\n",
    "agg_ds=agg_ds.sort_values(by='Month', ascending=False)\n",
    "\n",
    "#Changing the month values and converting them to the names of the month \n",
    "agg_ds['Month'] = agg_ds['Month'].apply(lambda x: calendar.month_abbr[x])"
   ]
  },
  {
   "cell_type": "code",
   "execution_count": 12,
   "id": "06200fb8",
   "metadata": {},
   "outputs": [
    {
     "data": {
      "text/plain": [
       "1028135    Sep\n",
       "342707     Sep\n",
       "342720     Sep\n",
       "342719     Sep\n",
       "342718     Sep\n",
       "          ... \n",
       "376351     Apr\n",
       "376352     Apr\n",
       "376353     Apr\n",
       "376354     Apr\n",
       "0          Apr\n",
       "Name: Month, Length: 4534327, dtype: object"
      ]
     },
     "execution_count": 12,
     "metadata": {},
     "output_type": "execute_result"
    }
   ],
   "source": [
    "agg_ds['Month']"
   ]
  },
  {
   "cell_type": "code",
   "execution_count": 13,
   "id": "2ffc26b6",
   "metadata": {},
   "outputs": [],
   "source": [
    "#Getting the Day from the dataset \n",
    "agg_ds['Day'] = agg_ds['Date/Time'].dt.day"
   ]
  },
  {
   "cell_type": "code",
   "execution_count": 14,
   "id": "784dedf2",
   "metadata": {},
   "outputs": [],
   "source": [
    "#Getting the DAY OF THE WEEK from the dataset\n",
    "agg_ds['DOW'] = agg_ds['Date/Time'].dt.dayofweek"
   ]
  },
  {
   "cell_type": "code",
   "execution_count": 15,
   "id": "0909b17b",
   "metadata": {},
   "outputs": [
    {
     "data": {
      "text/html": [
       "<div>\n",
       "<style scoped>\n",
       "    .dataframe tbody tr th:only-of-type {\n",
       "        vertical-align: middle;\n",
       "    }\n",
       "\n",
       "    .dataframe tbody tr th {\n",
       "        vertical-align: top;\n",
       "    }\n",
       "\n",
       "    .dataframe thead th {\n",
       "        text-align: right;\n",
       "    }\n",
       "</style>\n",
       "<table border=\"1\" class=\"dataframe\">\n",
       "  <thead>\n",
       "    <tr style=\"text-align: right;\">\n",
       "      <th></th>\n",
       "      <th>Date/Time</th>\n",
       "      <th>Lat</th>\n",
       "      <th>Lon</th>\n",
       "      <th>Base</th>\n",
       "      <th>Month</th>\n",
       "      <th>Day</th>\n",
       "      <th>DOW</th>\n",
       "    </tr>\n",
       "  </thead>\n",
       "  <tbody>\n",
       "    <tr>\n",
       "      <th>1028135</th>\n",
       "      <td>2014-09-30 22:58:00</td>\n",
       "      <td>40.7140</td>\n",
       "      <td>-73.9496</td>\n",
       "      <td>B02764</td>\n",
       "      <td>Sep</td>\n",
       "      <td>30</td>\n",
       "      <td>1</td>\n",
       "    </tr>\n",
       "    <tr>\n",
       "      <th>342707</th>\n",
       "      <td>2014-09-06 10:48:00</td>\n",
       "      <td>40.6733</td>\n",
       "      <td>-73.9763</td>\n",
       "      <td>B02617</td>\n",
       "      <td>Sep</td>\n",
       "      <td>6</td>\n",
       "      <td>5</td>\n",
       "    </tr>\n",
       "    <tr>\n",
       "      <th>342720</th>\n",
       "      <td>2014-09-06 10:50:00</td>\n",
       "      <td>40.7218</td>\n",
       "      <td>-73.9947</td>\n",
       "      <td>B02617</td>\n",
       "      <td>Sep</td>\n",
       "      <td>6</td>\n",
       "      <td>5</td>\n",
       "    </tr>\n",
       "    <tr>\n",
       "      <th>342719</th>\n",
       "      <td>2014-09-06 10:50:00</td>\n",
       "      <td>40.7933</td>\n",
       "      <td>-73.9152</td>\n",
       "      <td>B02617</td>\n",
       "      <td>Sep</td>\n",
       "      <td>6</td>\n",
       "      <td>5</td>\n",
       "    </tr>\n",
       "    <tr>\n",
       "      <th>342718</th>\n",
       "      <td>2014-09-06 10:50:00</td>\n",
       "      <td>40.7152</td>\n",
       "      <td>-74.0131</td>\n",
       "      <td>B02617</td>\n",
       "      <td>Sep</td>\n",
       "      <td>6</td>\n",
       "      <td>5</td>\n",
       "    </tr>\n",
       "    <tr>\n",
       "      <th>...</th>\n",
       "      <td>...</td>\n",
       "      <td>...</td>\n",
       "      <td>...</td>\n",
       "      <td>...</td>\n",
       "      <td>...</td>\n",
       "      <td>...</td>\n",
       "      <td>...</td>\n",
       "    </tr>\n",
       "    <tr>\n",
       "      <th>376351</th>\n",
       "      <td>2014-04-07 05:25:00</td>\n",
       "      <td>40.7283</td>\n",
       "      <td>-74.0031</td>\n",
       "      <td>B02682</td>\n",
       "      <td>Apr</td>\n",
       "      <td>7</td>\n",
       "      <td>0</td>\n",
       "    </tr>\n",
       "    <tr>\n",
       "      <th>376352</th>\n",
       "      <td>2014-04-07 05:25:00</td>\n",
       "      <td>40.6141</td>\n",
       "      <td>-73.9187</td>\n",
       "      <td>B02682</td>\n",
       "      <td>Apr</td>\n",
       "      <td>7</td>\n",
       "      <td>0</td>\n",
       "    </tr>\n",
       "    <tr>\n",
       "      <th>376353</th>\n",
       "      <td>2014-04-07 05:26:00</td>\n",
       "      <td>40.7341</td>\n",
       "      <td>-73.9812</td>\n",
       "      <td>B02682</td>\n",
       "      <td>Apr</td>\n",
       "      <td>7</td>\n",
       "      <td>0</td>\n",
       "    </tr>\n",
       "    <tr>\n",
       "      <th>376354</th>\n",
       "      <td>2014-04-07 05:26:00</td>\n",
       "      <td>40.7349</td>\n",
       "      <td>-73.9813</td>\n",
       "      <td>B02682</td>\n",
       "      <td>Apr</td>\n",
       "      <td>7</td>\n",
       "      <td>0</td>\n",
       "    </tr>\n",
       "    <tr>\n",
       "      <th>0</th>\n",
       "      <td>2014-04-01 00:11:00</td>\n",
       "      <td>40.7690</td>\n",
       "      <td>-73.9549</td>\n",
       "      <td>B02512</td>\n",
       "      <td>Apr</td>\n",
       "      <td>1</td>\n",
       "      <td>1</td>\n",
       "    </tr>\n",
       "  </tbody>\n",
       "</table>\n",
       "<p>4534327 rows × 7 columns</p>\n",
       "</div>"
      ],
      "text/plain": [
       "                  Date/Time      Lat      Lon    Base Month  Day  DOW\n",
       "1028135 2014-09-30 22:58:00  40.7140 -73.9496  B02764   Sep   30    1\n",
       "342707  2014-09-06 10:48:00  40.6733 -73.9763  B02617   Sep    6    5\n",
       "342720  2014-09-06 10:50:00  40.7218 -73.9947  B02617   Sep    6    5\n",
       "342719  2014-09-06 10:50:00  40.7933 -73.9152  B02617   Sep    6    5\n",
       "342718  2014-09-06 10:50:00  40.7152 -74.0131  B02617   Sep    6    5\n",
       "...                     ...      ...      ...     ...   ...  ...  ...\n",
       "376351  2014-04-07 05:25:00  40.7283 -74.0031  B02682   Apr    7    0\n",
       "376352  2014-04-07 05:25:00  40.6141 -73.9187  B02682   Apr    7    0\n",
       "376353  2014-04-07 05:26:00  40.7341 -73.9812  B02682   Apr    7    0\n",
       "376354  2014-04-07 05:26:00  40.7349 -73.9813  B02682   Apr    7    0\n",
       "0       2014-04-01 00:11:00  40.7690 -73.9549  B02512   Apr    1    1\n",
       "\n",
       "[4534327 rows x 7 columns]"
      ]
     },
     "execution_count": 15,
     "metadata": {},
     "output_type": "execute_result"
    }
   ],
   "source": [
    "#Final dataset\n",
    "agg_ds"
   ]
  },
  {
   "cell_type": "code",
   "execution_count": 16,
   "id": "33a1408d",
   "metadata": {},
   "outputs": [
    {
     "data": {
      "text/plain": [
       "<matplotlib.legend.Legend at 0xa3b25f8>"
      ]
     },
     "execution_count": 16,
     "metadata": {},
     "output_type": "execute_result"
    },
    {
     "data": {
      "image/png": "[encoded data removed]",
      "text/plain": [
       "<Figure size 432x288 with 1 Axes>"
      ]
     },
     "metadata": {
      "needs_background": "light"
     },
     "output_type": "display_data"
    }
   ],
   "source": [
    "#Daily Trips for Each Month\n",
    "agg_ds.groupby(['Month','Day'])['Day'].count().unstack('Month').plot.bar(stacked=True,color=(\"rosybrown\",\"lightcoral\",\"indianred\",\"brown\",\"maroon\",\"black\"),title=\"Trips by Every Day\").legend(bbox_to_anchor=(1.2, 1))"
   ]
  },
  {
   "cell_type": "code",
   "execution_count": 17,
   "id": "64b99b89",
   "metadata": {},
   "outputs": [
    {
     "name": "stdout",
     "output_type": "stream",
     "text": [
      "<class 'pandas.core.frame.DataFrame'>\n",
      "Int64Index: 4534327 entries, 1028135 to 0\n",
      "Data columns (total 7 columns):\n",
      " #   Column     Dtype         \n",
      "---  ------     -----         \n",
      " 0   Date/Time  datetime64[ns]\n",
      " 1   Lat        float64       \n",
      " 2   Lon        float64       \n",
      " 3   Base       object        \n",
      " 4   Month      object        \n",
      " 5   Day        int64         \n",
      " 6   DOW        int64         \n",
      "dtypes: datetime64[ns](1), float64(2), int64(2), object(2)\n",
      "memory usage: 242.2+ MB\n"
     ]
    }
   ],
   "source": [
    "agg_ds.info()"
   ]
  },
  {
   "cell_type": "code",
   "execution_count": 18,
   "id": "9e9d59ca",
   "metadata": {},
   "outputs": [
    {
     "data": {
      "text/html": [
       "<div>\n",
       "<style scoped>\n",
       "    .dataframe tbody tr th:only-of-type {\n",
       "        vertical-align: middle;\n",
       "    }\n",
       "\n",
       "    .dataframe tbody tr th {\n",
       "        vertical-align: top;\n",
       "    }\n",
       "\n",
       "    .dataframe thead th {\n",
       "        text-align: right;\n",
       "    }\n",
       "</style>\n",
       "<table border=\"1\" class=\"dataframe\">\n",
       "  <thead>\n",
       "    <tr style=\"text-align: right;\">\n",
       "      <th></th>\n",
       "      <th>Lat</th>\n",
       "      <th>Lon</th>\n",
       "      <th>Day</th>\n",
       "      <th>DOW</th>\n",
       "    </tr>\n",
       "  </thead>\n",
       "  <tbody>\n",
       "    <tr>\n",
       "      <th>count</th>\n",
       "      <td>4.534327e+06</td>\n",
       "      <td>4.534327e+06</td>\n",
       "      <td>4.534327e+06</td>\n",
       "      <td>4.534327e+06</td>\n",
       "    </tr>\n",
       "    <tr>\n",
       "      <th>mean</th>\n",
       "      <td>4.073926e+01</td>\n",
       "      <td>-7.397302e+01</td>\n",
       "      <td>1.594337e+01</td>\n",
       "      <td>2.968115e+00</td>\n",
       "    </tr>\n",
       "    <tr>\n",
       "      <th>std</th>\n",
       "      <td>3.994991e-02</td>\n",
       "      <td>5.726670e-02</td>\n",
       "      <td>8.744902e+00</td>\n",
       "      <td>1.875971e+00</td>\n",
       "    </tr>\n",
       "    <tr>\n",
       "      <th>min</th>\n",
       "      <td>3.965690e+01</td>\n",
       "      <td>-7.492900e+01</td>\n",
       "      <td>1.000000e+00</td>\n",
       "      <td>0.000000e+00</td>\n",
       "    </tr>\n",
       "    <tr>\n",
       "      <th>25%</th>\n",
       "      <td>4.072110e+01</td>\n",
       "      <td>-7.399650e+01</td>\n",
       "      <td>9.000000e+00</td>\n",
       "      <td>1.000000e+00</td>\n",
       "    </tr>\n",
       "    <tr>\n",
       "      <th>50%</th>\n",
       "      <td>4.074220e+01</td>\n",
       "      <td>-7.398340e+01</td>\n",
       "      <td>1.600000e+01</td>\n",
       "      <td>3.000000e+00</td>\n",
       "    </tr>\n",
       "    <tr>\n",
       "      <th>75%</th>\n",
       "      <td>4.076100e+01</td>\n",
       "      <td>-7.396530e+01</td>\n",
       "      <td>2.300000e+01</td>\n",
       "      <td>5.000000e+00</td>\n",
       "    </tr>\n",
       "    <tr>\n",
       "      <th>max</th>\n",
       "      <td>4.211660e+01</td>\n",
       "      <td>-7.206660e+01</td>\n",
       "      <td>3.100000e+01</td>\n",
       "      <td>6.000000e+00</td>\n",
       "    </tr>\n",
       "  </tbody>\n",
       "</table>\n",
       "</div>"
      ],
      "text/plain": [
       "                Lat           Lon           Day           DOW\n",
       "count  4.534327e+06  4.534327e+06  4.534327e+06  4.534327e+06\n",
       "mean   4.073926e+01 -7.397302e+01  1.594337e+01  2.968115e+00\n",
       "std    3.994991e-02  5.726670e-02  8.744902e+00  1.875971e+00\n",
       "min    3.965690e+01 -7.492900e+01  1.000000e+00  0.000000e+00\n",
       "25%    4.072110e+01 -7.399650e+01  9.000000e+00  1.000000e+00\n",
       "50%    4.074220e+01 -7.398340e+01  1.600000e+01  3.000000e+00\n",
       "75%    4.076100e+01 -7.396530e+01  2.300000e+01  5.000000e+00\n",
       "max    4.211660e+01 -7.206660e+01  3.100000e+01  6.000000e+00"
      ]
     },
     "execution_count": 18,
     "metadata": {},
     "output_type": "execute_result"
    }
   ],
   "source": [
    "agg_ds.describe()"
   ]
  },
  {
   "cell_type": "markdown",
   "id": "2f60f56f",
   "metadata": {},
   "source": [
    "### Things that work and did not work\n",
    "\n",
    "Initially the date and time column were in object format because of whcih it was hard to load and transform data. Then, after working and figuring out how to change to type I changed it to Data/Time type which helped the data to load and transform easily."
   ]
  },
  {
   "cell_type": "markdown",
   "id": "0843173d",
   "metadata": {},
   "source": [
    "### Characteristics of the dataset\n",
    "\n",
    "The dataset has columns like Data/Time, Latitude, Longitude along with the Base. Based on the latitude and longitude the base column shows the particular region for it. As I described earlier, I changed the date and time column from object format to Date/Time format to branch out different components of month, day and day of the week. After this I can use the date and time to understand the trend better."
   ]
  }
 ],
 "metadata": {
  "kernelspec": {
   "display_name": "Python 3 (ipykernel)",
   "language": "python",
   "name": "python3"
  },
  "language_info": {
   "codemirror_mode": {
    "name": "ipython",
    "version": 3
   },
   "file_extension": ".py",
   "mimetype": "text/x-python",
   "name": "python",
   "nbconvert_exporter": "python",
   "pygments_lexer": "ipython3",
   "version": "3.9.7"
  }
 },
 "nbformat": 4,
 "nbformat_minor": 5
}
