{
 "cells": [
  {
   "cell_type": "markdown",
   "id": "aed70ae6",
   "metadata": {},
   "source": [
    "# Uber Data Analysis\n",
    "\n",
    "<b>Basic Functionalities on the Data Set and a basic plot</b>\n",
    "\n",
    "I have taken up the Uber pick ups in NYC Data Set from Kaggle for the month of April , May , June , July , August and Septmeber\n",
    "\n",
    "Link to the DataSet: https://www.kaggle.com/fivethirtyeight/uber-pickups-in-new-york-city/version/2\n",
    "\n",
    "License is : CC0 Public Domain</br>\n",
    "The above license is the no copyrights license which allows an individual to copy , modify , distribute and perform the work for commercial purposes as well without the requirement for any permission.\n",
    "\n",
    "Data Type: Raw\n",
    "\n",
    "Data Size:</br> \n",
    "uber-raw-data-apr14.csv - 26.11 MB</br>\n",
    "uber-raw-data-may14.csv - 30.17 MB</br>\n",
    "uber-raw-data-jun14.csv - 30.70 MB</br>\n",
    "uber-raw-data-jul14.csv - 36.87 MB</br>\n",
    "uber-raw-data-aug14.csv - 38.32 MB</br>\n",
    "uber-raw-data-sep14.csv - 47.54 MB</br>\n",
    "\n",
    "Where can you get it?</br>\n",
    "You can find the link to the data set on Kaggle, I have provided the link to the data set \n"
   ]
  },
  {
   "cell_type": "code",
   "execution_count": 1,
   "id": "e532fa87",
   "metadata": {},
   "outputs": [],
   "source": [
    "import pandas as pd\n",
    "import calendar\n",
    "import matplotlib.pyplot as plt\n",
    "from matplotlib.font_manager import FontProperties"
   ]
  },
  {
   "cell_type": "markdown",
   "id": "1ea10846",
   "metadata": {},
   "source": [
    "# Importing the Files"
   ]
  },
  {
   "cell_type": "code",
   "execution_count": 2,
   "id": "0fe756ee",
   "metadata": {},
   "outputs": [],
   "source": [
    "df1=pd.read_csv(\"C:/Users/abhis/Downloads/uber-raw-data-apr14.csv\")\n",
    "df2=pd.read_csv(\"C:/Users/abhis/Downloads/uber-raw-data-may14.csv\")\n",
    "df3=pd.read_csv(\"C:/Users/abhis/Downloads/uber-raw-data-jun14.csv\")\n",
    "df4=pd.read_csv(\"C:/Users/abhis/Downloads/uber-raw-data-jul14.csv\")\n",
    "df5=pd.read_csv(\"C:/Users/abhis/Downloads/uber-raw-data-aug14.csv\")\n",
    "df6=pd.read_csv(\"C:/Users/abhis/Downloads/uber-raw-data-sep14.csv\")"
   ]
  },
  {
   "cell_type": "code",
   "execution_count": 3,
   "id": "5c9f54c6",
   "metadata": {},
   "outputs": [],
   "source": [
    "#Aggregating the 6 different files using the concat function \n",
    "final_df=pd.concat([df1,df2,df3,df4,df5,df6])"
   ]
  },
  {
   "cell_type": "code",
   "execution_count": 4,
   "id": "ea39ba77",
   "metadata": {},
   "outputs": [
    {
     "data": {
      "text/html": [
       "<div>\n",
       "<style scoped>\n",
       "    .dataframe tbody tr th:only-of-type {\n",
       "        vertical-align: middle;\n",
       "    }\n",
       "\n",
       "    .dataframe tbody tr th {\n",
       "        vertical-align: top;\n",
       "    }\n",
       "\n",
       "    .dataframe thead th {\n",
       "        text-align: right;\n",
       "    }\n",
       "</style>\n",
       "<table border=\"1\" class=\"dataframe\">\n",
       "  <thead>\n",
       "    <tr style=\"text-align: right;\">\n",
       "      <th></th>\n",
       "      <th>Date/Time</th>\n",
       "      <th>Lat</th>\n",
       "      <th>Lon</th>\n",
       "      <th>Base</th>\n",
       "    </tr>\n",
       "  </thead>\n",
       "  <tbody>\n",
       "    <tr>\n",
       "      <th>0</th>\n",
       "      <td>4/1/2014 0:11:00</td>\n",
       "      <td>40.7690</td>\n",
       "      <td>-73.9549</td>\n",
       "      <td>B02512</td>\n",
       "    </tr>\n",
       "    <tr>\n",
       "      <th>1</th>\n",
       "      <td>4/1/2014 0:17:00</td>\n",
       "      <td>40.7267</td>\n",
       "      <td>-74.0345</td>\n",
       "      <td>B02512</td>\n",
       "    </tr>\n",
       "    <tr>\n",
       "      <th>2</th>\n",
       "      <td>4/1/2014 0:21:00</td>\n",
       "      <td>40.7316</td>\n",
       "      <td>-73.9873</td>\n",
       "      <td>B02512</td>\n",
       "    </tr>\n",
       "    <tr>\n",
       "      <th>3</th>\n",
       "      <td>4/1/2014 0:28:00</td>\n",
       "      <td>40.7588</td>\n",
       "      <td>-73.9776</td>\n",
       "      <td>B02512</td>\n",
       "    </tr>\n",
       "    <tr>\n",
       "      <th>4</th>\n",
       "      <td>4/1/2014 0:33:00</td>\n",
       "      <td>40.7594</td>\n",
       "      <td>-73.9722</td>\n",
       "      <td>B02512</td>\n",
       "    </tr>\n",
       "    <tr>\n",
       "      <th>...</th>\n",
       "      <td>...</td>\n",
       "      <td>...</td>\n",
       "      <td>...</td>\n",
       "      <td>...</td>\n",
       "    </tr>\n",
       "    <tr>\n",
       "      <th>1028131</th>\n",
       "      <td>9/30/2014 22:57:00</td>\n",
       "      <td>40.7668</td>\n",
       "      <td>-73.9845</td>\n",
       "      <td>B02764</td>\n",
       "    </tr>\n",
       "    <tr>\n",
       "      <th>1028132</th>\n",
       "      <td>9/30/2014 22:57:00</td>\n",
       "      <td>40.6911</td>\n",
       "      <td>-74.1773</td>\n",
       "      <td>B02764</td>\n",
       "    </tr>\n",
       "    <tr>\n",
       "      <th>1028133</th>\n",
       "      <td>9/30/2014 22:58:00</td>\n",
       "      <td>40.8519</td>\n",
       "      <td>-73.9319</td>\n",
       "      <td>B02764</td>\n",
       "    </tr>\n",
       "    <tr>\n",
       "      <th>1028134</th>\n",
       "      <td>9/30/2014 22:58:00</td>\n",
       "      <td>40.7081</td>\n",
       "      <td>-74.0066</td>\n",
       "      <td>B02764</td>\n",
       "    </tr>\n",
       "    <tr>\n",
       "      <th>1028135</th>\n",
       "      <td>9/30/2014 22:58:00</td>\n",
       "      <td>40.7140</td>\n",
       "      <td>-73.9496</td>\n",
       "      <td>B02764</td>\n",
       "    </tr>\n",
       "  </tbody>\n",
       "</table>\n",
       "<p>4534327 rows × 4 columns</p>\n",
       "</div>"
      ],
      "text/plain": [
       "                  Date/Time      Lat      Lon    Base\n",
       "0          4/1/2014 0:11:00  40.7690 -73.9549  B02512\n",
       "1          4/1/2014 0:17:00  40.7267 -74.0345  B02512\n",
       "2          4/1/2014 0:21:00  40.7316 -73.9873  B02512\n",
       "3          4/1/2014 0:28:00  40.7588 -73.9776  B02512\n",
       "4          4/1/2014 0:33:00  40.7594 -73.9722  B02512\n",
       "...                     ...      ...      ...     ...\n",
       "1028131  9/30/2014 22:57:00  40.7668 -73.9845  B02764\n",
       "1028132  9/30/2014 22:57:00  40.6911 -74.1773  B02764\n",
       "1028133  9/30/2014 22:58:00  40.8519 -73.9319  B02764\n",
       "1028134  9/30/2014 22:58:00  40.7081 -74.0066  B02764\n",
       "1028135  9/30/2014 22:58:00  40.7140 -73.9496  B02764\n",
       "\n",
       "[4534327 rows x 4 columns]"
      ]
     },
     "execution_count": 4,
     "metadata": {},
     "output_type": "execute_result"
    }
   ],
   "source": [
    "#Checking the Final DF\n",
    "final_df"
   ]
  },
  {
   "cell_type": "code",
   "execution_count": 5,
   "id": "89fd35f0",
   "metadata": {
    "scrolled": true
   },
   "outputs": [
    {
     "data": {
      "text/html": [
       "<div>\n",
       "<style scoped>\n",
       "    .dataframe tbody tr th:only-of-type {\n",
       "        vertical-align: middle;\n",
       "    }\n",
       "\n",
       "    .dataframe tbody tr th {\n",
       "        vertical-align: top;\n",
       "    }\n",
       "\n",
       "    .dataframe thead th {\n",
       "        text-align: right;\n",
       "    }\n",
       "</style>\n",
       "<table border=\"1\" class=\"dataframe\">\n",
       "  <thead>\n",
       "    <tr style=\"text-align: right;\">\n",
       "      <th></th>\n",
       "      <th>Lat</th>\n",
       "      <th>Lon</th>\n",
       "    </tr>\n",
       "  </thead>\n",
       "  <tbody>\n",
       "    <tr>\n",
       "      <th>count</th>\n",
       "      <td>4.534327e+06</td>\n",
       "      <td>4.534327e+06</td>\n",
       "    </tr>\n",
       "    <tr>\n",
       "      <th>mean</th>\n",
       "      <td>4.073926e+01</td>\n",
       "      <td>-7.397302e+01</td>\n",
       "    </tr>\n",
       "    <tr>\n",
       "      <th>std</th>\n",
       "      <td>3.994991e-02</td>\n",
       "      <td>5.726670e-02</td>\n",
       "    </tr>\n",
       "    <tr>\n",
       "      <th>min</th>\n",
       "      <td>3.965690e+01</td>\n",
       "      <td>-7.492900e+01</td>\n",
       "    </tr>\n",
       "    <tr>\n",
       "      <th>25%</th>\n",
       "      <td>4.072110e+01</td>\n",
       "      <td>-7.399650e+01</td>\n",
       "    </tr>\n",
       "    <tr>\n",
       "      <th>50%</th>\n",
       "      <td>4.074220e+01</td>\n",
       "      <td>-7.398340e+01</td>\n",
       "    </tr>\n",
       "    <tr>\n",
       "      <th>75%</th>\n",
       "      <td>4.076100e+01</td>\n",
       "      <td>-7.396530e+01</td>\n",
       "    </tr>\n",
       "    <tr>\n",
       "      <th>max</th>\n",
       "      <td>4.211660e+01</td>\n",
       "      <td>-7.206660e+01</td>\n",
       "    </tr>\n",
       "  </tbody>\n",
       "</table>\n",
       "</div>"
      ],
      "text/plain": [
       "                Lat           Lon\n",
       "count  4.534327e+06  4.534327e+06\n",
       "mean   4.073926e+01 -7.397302e+01\n",
       "std    3.994991e-02  5.726670e-02\n",
       "min    3.965690e+01 -7.492900e+01\n",
       "25%    4.072110e+01 -7.399650e+01\n",
       "50%    4.074220e+01 -7.398340e+01\n",
       "75%    4.076100e+01 -7.396530e+01\n",
       "max    4.211660e+01 -7.206660e+01"
      ]
     },
     "execution_count": 5,
     "metadata": {},
     "output_type": "execute_result"
    }
   ],
   "source": [
    "# Initally summary of the Data Set \n",
    "final_df.describe()"
   ]
  },
  {
   "cell_type": "code",
   "execution_count": 6,
   "id": "708eb96e",
   "metadata": {},
   "outputs": [],
   "source": [
    "final_df['Date/Time'] = pd.to_datetime(final_df['Date/Time'])"
   ]
  },
  {
   "cell_type": "code",
   "execution_count": 7,
   "id": "21ad6986",
   "metadata": {},
   "outputs": [],
   "source": [
    "# Fetching the Month from the data set\n",
    "\n",
    "final_df['Month'] = final_df['Date/Time'].dt.month"
   ]
  },
  {
   "cell_type": "code",
   "execution_count": 8,
   "id": "95d5064f",
   "metadata": {},
   "outputs": [
    {
     "data": {
      "text/plain": [
       "0          4\n",
       "1          4\n",
       "2          4\n",
       "3          4\n",
       "4          4\n",
       "          ..\n",
       "1028131    9\n",
       "1028132    9\n",
       "1028133    9\n",
       "1028134    9\n",
       "1028135    9\n",
       "Name: Month, Length: 4534327, dtype: int64"
      ]
     },
     "execution_count": 8,
     "metadata": {},
     "output_type": "execute_result"
    }
   ],
   "source": [
    "final_df['Month']"
   ]
  },
  {
   "cell_type": "code",
   "execution_count": 9,
   "id": "d3ba7bbd",
   "metadata": {},
   "outputs": [],
   "source": [
    "#Sorting the data according to the month \n",
    "final_df=final_df.sort_values(by='Month', ascending=False)\n",
    "\n",
    "#Converting the month values to month names \n",
    "final_df['Month'] = final_df['Month'].apply(lambda x: calendar.month_abbr[x])"
   ]
  },
  {
   "cell_type": "code",
   "execution_count": 10,
   "id": "5f33f5a6",
   "metadata": {},
   "outputs": [
    {
     "data": {
      "text/plain": [
       "1028135    Sep\n",
       "342707     Sep\n",
       "342720     Sep\n",
       "342719     Sep\n",
       "342718     Sep\n",
       "          ... \n",
       "376351     Apr\n",
       "376352     Apr\n",
       "376353     Apr\n",
       "376354     Apr\n",
       "0          Apr\n",
       "Name: Month, Length: 4534327, dtype: object"
      ]
     },
     "execution_count": 10,
     "metadata": {},
     "output_type": "execute_result"
    }
   ],
   "source": [
    "final_df['Month']"
   ]
  },
  {
   "cell_type": "code",
   "execution_count": 11,
   "id": "2c113a44",
   "metadata": {},
   "outputs": [],
   "source": [
    "#Fetching the day from the data set \n",
    "final_df['Day'] = final_df['Date/Time'].dt.day"
   ]
  },
  {
   "cell_type": "code",
   "execution_count": 12,
   "id": "6aaead3d",
   "metadata": {},
   "outputs": [],
   "source": [
    "#Fetching the day of the weel from the data set \n",
    "final_df['DOW'] = final_df['Date/Time'].dt.dayofweek"
   ]
  },
  {
   "cell_type": "code",
   "execution_count": 13,
   "id": "9d6972cb",
   "metadata": {},
   "outputs": [
    {
     "data": {
      "text/html": [
       "<div>\n",
       "<style scoped>\n",
       "    .dataframe tbody tr th:only-of-type {\n",
       "        vertical-align: middle;\n",
       "    }\n",
       "\n",
       "    .dataframe tbody tr th {\n",
       "        vertical-align: top;\n",
       "    }\n",
       "\n",
       "    .dataframe thead th {\n",
       "        text-align: right;\n",
       "    }\n",
       "</style>\n",
       "<table border=\"1\" class=\"dataframe\">\n",
       "  <thead>\n",
       "    <tr style=\"text-align: right;\">\n",
       "      <th></th>\n",
       "      <th>Date/Time</th>\n",
       "      <th>Lat</th>\n",
       "      <th>Lon</th>\n",
       "      <th>Base</th>\n",
       "      <th>Month</th>\n",
       "      <th>Day</th>\n",
       "      <th>DOW</th>\n",
       "    </tr>\n",
       "  </thead>\n",
       "  <tbody>\n",
       "    <tr>\n",
       "      <th>1028135</th>\n",
       "      <td>2014-09-30 22:58:00</td>\n",
       "      <td>40.7140</td>\n",
       "      <td>-73.9496</td>\n",
       "      <td>B02764</td>\n",
       "      <td>Sep</td>\n",
       "      <td>30</td>\n",
       "      <td>1</td>\n",
       "    </tr>\n",
       "    <tr>\n",
       "      <th>342707</th>\n",
       "      <td>2014-09-06 10:48:00</td>\n",
       "      <td>40.6733</td>\n",
       "      <td>-73.9763</td>\n",
       "      <td>B02617</td>\n",
       "      <td>Sep</td>\n",
       "      <td>6</td>\n",
       "      <td>5</td>\n",
       "    </tr>\n",
       "    <tr>\n",
       "      <th>342720</th>\n",
       "      <td>2014-09-06 10:50:00</td>\n",
       "      <td>40.7218</td>\n",
       "      <td>-73.9947</td>\n",
       "      <td>B02617</td>\n",
       "      <td>Sep</td>\n",
       "      <td>6</td>\n",
       "      <td>5</td>\n",
       "    </tr>\n",
       "    <tr>\n",
       "      <th>342719</th>\n",
       "      <td>2014-09-06 10:50:00</td>\n",
       "      <td>40.7933</td>\n",
       "      <td>-73.9152</td>\n",
       "      <td>B02617</td>\n",
       "      <td>Sep</td>\n",
       "      <td>6</td>\n",
       "      <td>5</td>\n",
       "    </tr>\n",
       "    <tr>\n",
       "      <th>342718</th>\n",
       "      <td>2014-09-06 10:50:00</td>\n",
       "      <td>40.7152</td>\n",
       "      <td>-74.0131</td>\n",
       "      <td>B02617</td>\n",
       "      <td>Sep</td>\n",
       "      <td>6</td>\n",
       "      <td>5</td>\n",
       "    </tr>\n",
       "    <tr>\n",
       "      <th>...</th>\n",
       "      <td>...</td>\n",
       "      <td>...</td>\n",
       "      <td>...</td>\n",
       "      <td>...</td>\n",
       "      <td>...</td>\n",
       "      <td>...</td>\n",
       "      <td>...</td>\n",
       "    </tr>\n",
       "    <tr>\n",
       "      <th>376351</th>\n",
       "      <td>2014-04-07 05:25:00</td>\n",
       "      <td>40.7283</td>\n",
       "      <td>-74.0031</td>\n",
       "      <td>B02682</td>\n",
       "      <td>Apr</td>\n",
       "      <td>7</td>\n",
       "      <td>0</td>\n",
       "    </tr>\n",
       "    <tr>\n",
       "      <th>376352</th>\n",
       "      <td>2014-04-07 05:25:00</td>\n",
       "      <td>40.6141</td>\n",
       "      <td>-73.9187</td>\n",
       "      <td>B02682</td>\n",
       "      <td>Apr</td>\n",
       "      <td>7</td>\n",
       "      <td>0</td>\n",
       "    </tr>\n",
       "    <tr>\n",
       "      <th>376353</th>\n",
       "      <td>2014-04-07 05:26:00</td>\n",
       "      <td>40.7341</td>\n",
       "      <td>-73.9812</td>\n",
       "      <td>B02682</td>\n",
       "      <td>Apr</td>\n",
       "      <td>7</td>\n",
       "      <td>0</td>\n",
       "    </tr>\n",
       "    <tr>\n",
       "      <th>376354</th>\n",
       "      <td>2014-04-07 05:26:00</td>\n",
       "      <td>40.7349</td>\n",
       "      <td>-73.9813</td>\n",
       "      <td>B02682</td>\n",
       "      <td>Apr</td>\n",
       "      <td>7</td>\n",
       "      <td>0</td>\n",
       "    </tr>\n",
       "    <tr>\n",
       "      <th>0</th>\n",
       "      <td>2014-04-01 00:11:00</td>\n",
       "      <td>40.7690</td>\n",
       "      <td>-73.9549</td>\n",
       "      <td>B02512</td>\n",
       "      <td>Apr</td>\n",
       "      <td>1</td>\n",
       "      <td>1</td>\n",
       "    </tr>\n",
       "  </tbody>\n",
       "</table>\n",
       "<p>4534327 rows × 7 columns</p>\n",
       "</div>"
      ],
      "text/plain": [
       "                  Date/Time      Lat      Lon    Base Month  Day  DOW\n",
       "1028135 2014-09-30 22:58:00  40.7140 -73.9496  B02764   Sep   30    1\n",
       "342707  2014-09-06 10:48:00  40.6733 -73.9763  B02617   Sep    6    5\n",
       "342720  2014-09-06 10:50:00  40.7218 -73.9947  B02617   Sep    6    5\n",
       "342719  2014-09-06 10:50:00  40.7933 -73.9152  B02617   Sep    6    5\n",
       "342718  2014-09-06 10:50:00  40.7152 -74.0131  B02617   Sep    6    5\n",
       "...                     ...      ...      ...     ...   ...  ...  ...\n",
       "376351  2014-04-07 05:25:00  40.7283 -74.0031  B02682   Apr    7    0\n",
       "376352  2014-04-07 05:25:00  40.6141 -73.9187  B02682   Apr    7    0\n",
       "376353  2014-04-07 05:26:00  40.7341 -73.9812  B02682   Apr    7    0\n",
       "376354  2014-04-07 05:26:00  40.7349 -73.9813  B02682   Apr    7    0\n",
       "0       2014-04-01 00:11:00  40.7690 -73.9549  B02512   Apr    1    1\n",
       "\n",
       "[4534327 rows x 7 columns]"
      ]
     },
     "execution_count": 13,
     "metadata": {},
     "output_type": "execute_result"
    }
   ],
   "source": [
    "#checking the data set again\n",
    "final_df"
   ]
  },
  {
   "cell_type": "code",
   "execution_count": 14,
   "id": "d410743a",
   "metadata": {},
   "outputs": [
    {
     "data": {
      "text/plain": [
       "<matplotlib.legend.Legend at 0x20a8f205f88>"
      ]
     },
     "execution_count": 14,
     "metadata": {},
     "output_type": "execute_result"
    },
    {
     "data": {
      "image/png": "[encoded data removed]",
      "text/plain": [
       "<Figure size 432x288 with 1 Axes>"
      ]
     },
     "metadata": {
      "needs_background": "light"
     },
     "output_type": "display_data"
    }
   ],
   "source": [
    "#Trips Every Day for Each Month\n",
    "final_df.groupby(['Month','Day'])['Day'].count().unstack('Month').plot.bar(stacked=True,color=(\"rosybrown\",\"lightcoral\",\"indianred\",\"brown\",\"maroon\",\"black\"),title=\"Trips by Every Day\").legend(bbox_to_anchor=(1.2, 1))"
   ]
  },
  {
   "cell_type": "code",
   "execution_count": 15,
   "id": "1e625d58",
   "metadata": {},
   "outputs": [
    {
     "name": "stdout",
     "output_type": "stream",
     "text": [
      "<class 'pandas.core.frame.DataFrame'>\n",
      "Int64Index: 4534327 entries, 1028135 to 0\n",
      "Data columns (total 7 columns):\n",
      " #   Column     Dtype         \n",
      "---  ------     -----         \n",
      " 0   Date/Time  datetime64[ns]\n",
      " 1   Lat        float64       \n",
      " 2   Lon        float64       \n",
      " 3   Base       object        \n",
      " 4   Month      object        \n",
      " 5   Day        int64         \n",
      " 6   DOW        int64         \n",
      "dtypes: datetime64[ns](1), float64(2), int64(2), object(2)\n",
      "memory usage: 276.8+ MB\n"
     ]
    }
   ],
   "source": [
    "final_df.info()"
   ]
  },
  {
   "cell_type": "code",
   "execution_count": 16,
   "id": "d2e1aaa4",
   "metadata": {},
   "outputs": [
    {
     "data": {
      "text/html": [
       "<div>\n",
       "<style scoped>\n",
       "    .dataframe tbody tr th:only-of-type {\n",
       "        vertical-align: middle;\n",
       "    }\n",
       "\n",
       "    .dataframe tbody tr th {\n",
       "        vertical-align: top;\n",
       "    }\n",
       "\n",
       "    .dataframe thead th {\n",
       "        text-align: right;\n",
       "    }\n",
       "</style>\n",
       "<table border=\"1\" class=\"dataframe\">\n",
       "  <thead>\n",
       "    <tr style=\"text-align: right;\">\n",
       "      <th></th>\n",
       "      <th>Lat</th>\n",
       "      <th>Lon</th>\n",
       "      <th>Day</th>\n",
       "      <th>DOW</th>\n",
       "    </tr>\n",
       "  </thead>\n",
       "  <tbody>\n",
       "    <tr>\n",
       "      <th>count</th>\n",
       "      <td>4.534327e+06</td>\n",
       "      <td>4.534327e+06</td>\n",
       "      <td>4.534327e+06</td>\n",
       "      <td>4.534327e+06</td>\n",
       "    </tr>\n",
       "    <tr>\n",
       "      <th>mean</th>\n",
       "      <td>4.073926e+01</td>\n",
       "      <td>-7.397302e+01</td>\n",
       "      <td>1.594337e+01</td>\n",
       "      <td>2.968115e+00</td>\n",
       "    </tr>\n",
       "    <tr>\n",
       "      <th>std</th>\n",
       "      <td>3.994991e-02</td>\n",
       "      <td>5.726670e-02</td>\n",
       "      <td>8.744902e+00</td>\n",
       "      <td>1.875971e+00</td>\n",
       "    </tr>\n",
       "    <tr>\n",
       "      <th>min</th>\n",
       "      <td>3.965690e+01</td>\n",
       "      <td>-7.492900e+01</td>\n",
       "      <td>1.000000e+00</td>\n",
       "      <td>0.000000e+00</td>\n",
       "    </tr>\n",
       "    <tr>\n",
       "      <th>25%</th>\n",
       "      <td>4.072110e+01</td>\n",
       "      <td>-7.399650e+01</td>\n",
       "      <td>9.000000e+00</td>\n",
       "      <td>1.000000e+00</td>\n",
       "    </tr>\n",
       "    <tr>\n",
       "      <th>50%</th>\n",
       "      <td>4.074220e+01</td>\n",
       "      <td>-7.398340e+01</td>\n",
       "      <td>1.600000e+01</td>\n",
       "      <td>3.000000e+00</td>\n",
       "    </tr>\n",
       "    <tr>\n",
       "      <th>75%</th>\n",
       "      <td>4.076100e+01</td>\n",
       "      <td>-7.396530e+01</td>\n",
       "      <td>2.300000e+01</td>\n",
       "      <td>5.000000e+00</td>\n",
       "    </tr>\n",
       "    <tr>\n",
       "      <th>max</th>\n",
       "      <td>4.211660e+01</td>\n",
       "      <td>-7.206660e+01</td>\n",
       "      <td>3.100000e+01</td>\n",
       "      <td>6.000000e+00</td>\n",
       "    </tr>\n",
       "  </tbody>\n",
       "</table>\n",
       "</div>"
      ],
      "text/plain": [
       "                Lat           Lon           Day           DOW\n",
       "count  4.534327e+06  4.534327e+06  4.534327e+06  4.534327e+06\n",
       "mean   4.073926e+01 -7.397302e+01  1.594337e+01  2.968115e+00\n",
       "std    3.994991e-02  5.726670e-02  8.744902e+00  1.875971e+00\n",
       "min    3.965690e+01 -7.492900e+01  1.000000e+00  0.000000e+00\n",
       "25%    4.072110e+01 -7.399650e+01  9.000000e+00  1.000000e+00\n",
       "50%    4.074220e+01 -7.398340e+01  1.600000e+01  3.000000e+00\n",
       "75%    4.076100e+01 -7.396530e+01  2.300000e+01  5.000000e+00\n",
       "max    4.211660e+01 -7.206660e+01  3.100000e+01  6.000000e+00"
      ]
     },
     "execution_count": 16,
     "metadata": {},
     "output_type": "execute_result"
    }
   ],
   "source": [
    "final_df.describe()"
   ]
  },
  {
   "cell_type": "markdown",
   "id": "3b01ebd4",
   "metadata": {},
   "source": [
    "# What did and did not work out \n",
    "\n",
    "The data date and time column was initially in the object format which caused a lot of issues to extract and transorm data, then I changed the type to Date/Time which is much easier and the process faster.\n",
    "\n",
    "# Explaining the Columns:\n",
    "\n",
    "The columns in the data set gave infromation about the Date Time , Latitude , Longitude and the Base. The base is basically a location given to range of area pertaining to a latitudnal and longitudnal range. Initially the Date and Time column was an 'object' data type , which I transformed to type Date/Time to extract the different components like the month, day and day of the week. I would like to use these columns and extract the components the hours and minutes and plot them against the base to understand where and when were the maximum pick ups in NYC. This could further help Uber understand the trend and do the needful."
   ]
  },
  {
   "cell_type": "code",
   "execution_count": null,
   "id": "d42929ce",
   "metadata": {},
   "outputs": [],
   "source": []
  }
 ],
 "metadata": {
  "kernelspec": {
   "display_name": "Python 3 (ipykernel)",
   "language": "python",
   "name": "python3"
  },
  "language_info": {
   "codemirror_mode": {
    "name": "ipython",
    "version": 3
   },
   "file_extension": ".py",
   "mimetype": "text/x-python",
   "name": "python",
   "nbconvert_exporter": "python",
   "pygments_lexer": "ipython3",
   "version": "3.9.7"
  }
 },
 "nbformat": 4,
 "nbformat_minor": 5
}
